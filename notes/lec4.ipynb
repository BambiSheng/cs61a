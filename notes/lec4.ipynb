{
 "cells": [
  {
   "attachments": {},
   "cell_type": "markdown",
   "metadata": {},
   "source": [
    "## Lec3. recursion and tree recursion"
   ]
  },
  {
   "attachments": {},
   "cell_type": "markdown",
   "metadata": {},
   "source": [
    "### 1.Example: digit sums"
   ]
  },
  {
   "cell_type": "code",
   "execution_count": 1,
   "metadata": {},
   "outputs": [
    {
     "data": {
      "text/plain": [
       "16"
      ]
     },
     "execution_count": 1,
     "metadata": {},
     "output_type": "execute_result"
    }
   ],
   "source": [
    "# eg.1 digit sums\n",
    "def digitSums(x):\n",
    "  if x < 10:\n",
    "    return x\n",
    "  else:\n",
    "    return digitSums(x//10) + x%10\n",
    "digitSums(114514)"
   ]
  },
  {
   "attachments": {},
   "cell_type": "markdown",
   "metadata": {},
   "source": [
    "### 2.mutual recursion"
   ]
  },
  {
   "cell_type": "code",
   "execution_count": 3,
   "metadata": {},
   "outputs": [
    {
     "data": {
      "text/plain": [
       "True"
      ]
     },
     "execution_count": 3,
     "metadata": {},
     "output_type": "execute_result"
    }
   ],
   "source": [
    "# The Luhn Algorithm: used to verify credit card numbers\n",
    "\n",
    "# STEP 1: From the rightmost digit, which is the check point, moving left, double the value of every second digit; if product of the doubling operation is greater than 9, then sum the digits of the products\n",
    "\n",
    "# STEP 2: Take the sum of all the digits\n",
    "\n",
    "# The Luhn sum of a valid credit number is a multiple of 10\n",
    "\n",
    "def luhn_sum(x):\n",
    "  if x < 10:\n",
    "    return x\n",
    "  else:\n",
    "    return x%10 + luhn_sum_double(x//10)\n",
    "\n",
    "def luhn_sum_double(x):\n",
    "  if x < 10:\n",
    "    return digitSums(x*2)\n",
    "  else:\n",
    "    return digitSums((x%10)*2) + luhn_sum(x//10)\n",
    "\n",
    "def is_valid_credit_number(x):\n",
    "  if luhn_sum(x) == 10*(x%10):\n",
    "    return True\n",
    "  else:\n",
    "    return False\n",
    "\n",
    "is_valid_credit_number(138743)    "
   ]
  },
  {
   "attachments": {},
   "cell_type": "markdown",
   "metadata": {},
   "source": [
    "### 3.Example: inverse cascade\n"
   ]
  },
  {
   "cell_type": "code",
   "execution_count": 36,
   "metadata": {},
   "outputs": [
    {
     "name": "stdout",
     "output_type": "stream",
     "text": [
      "1\n",
      "12\n",
      "123\n",
      "1234\n",
      "12345\n",
      "1234\n",
      "123\n",
      "12\n",
      "1\n"
     ]
    }
   ],
   "source": [
    "def inverse_cascade(x):\n",
    "  '''\n",
    "  Inverse cascade.\n",
    "  >>> inverse_cascade(1234)\n",
    "  1\n",
    "  12\n",
    "  123\n",
    "  1234\n",
    "  123\n",
    "  12\n",
    "  1\n",
    "  '''\n",
    "  grow(x)\n",
    "  print(x)\n",
    "  shrink(x)\n",
    "\n",
    "def f_then_g(f,g,n):\n",
    "  if n:\n",
    "    f(n)\n",
    "    g(n)\n",
    "grow = lambda n: f_then_g(grow,print,n//10)\n",
    "shrink = lambda n: f_then_g(print,shrink,n//10)\n",
    "inverse_cascade(12345)  "
   ]
  },
  {
   "attachments": {},
   "cell_type": "markdown",
   "metadata": {},
   "source": [
    "### 4.Tree recursion"
   ]
  },
  {
   "attachments": {},
   "cell_type": "markdown",
   "metadata": {},
   "source": [
    "Tree-shaped processes arise whenever executing the body of a recursive function makes more than one call to that function."
   ]
  },
  {
   "cell_type": "code",
   "execution_count": 6,
   "metadata": {},
   "outputs": [
    {
     "name": "stdout",
     "output_type": "stream",
     "text": [
      "calling <function fib at 0x000001FFC24A5160> on argument 5\n",
      "calling <function fib at 0x000001FFC24A5160> on argument 4\n",
      "calling <function fib at 0x000001FFC24A5160> on argument 3\n",
      "calling <function fib at 0x000001FFC24A5160> on argument 2\n",
      "calling <function fib at 0x000001FFC24A5160> on argument 1\n",
      "calling <function fib at 0x000001FFC24A5160> on argument 0\n",
      "calling <function fib at 0x000001FFC24A5160> on argument 1\n",
      "calling <function fib at 0x000001FFC24A5160> on argument 2\n",
      "calling <function fib at 0x000001FFC24A5160> on argument 1\n",
      "calling <function fib at 0x000001FFC24A5160> on argument 0\n",
      "calling <function fib at 0x000001FFC24A5160> on argument 3\n",
      "calling <function fib at 0x000001FFC24A5160> on argument 2\n",
      "calling <function fib at 0x000001FFC24A5160> on argument 1\n",
      "calling <function fib at 0x000001FFC24A5160> on argument 0\n",
      "calling <function fib at 0x000001FFC24A5160> on argument 1\n",
      "5\n"
     ]
    }
   ],
   "source": [
    "# exaple: fib(n)\n",
    "def trace(f):\n",
    "  def traced(x):\n",
    "    print(f'calling {f} on argument {x}')\n",
    "    return f(x)\n",
    "  return traced\n",
    "@trace\n",
    "def fib(n):\n",
    "  if n ==0 or n == 1:\n",
    "    return n\n",
    "  else:\n",
    "    return fib(n-1) + fib(n-2)\n",
    "print(fib(5))\n",
    "\n",
    "# '''\n",
    "# count = 6\n",
    "# while count > 0:\n",
    "#   print(f'fib({6 - count}) = {fib(6 - count)}')\n",
    "#   count -= 1\n",
    "# '''"
   ]
  },
  {
   "cell_type": "code",
   "execution_count": 10,
   "metadata": {},
   "outputs": [
    {
     "data": {
      "text/plain": [
       "210"
      ]
     },
     "execution_count": 10,
     "metadata": {},
     "output_type": "execute_result"
    }
   ],
   "source": [
    "# example: paths\n",
    "def paths(m,n):\n",
    "  if m == 1 or n == 1:\n",
    "    return 1\n",
    "  else:\n",
    "    return paths(m-1, n) + paths(n-1,m)\n",
    "\n",
    "paths(5,7)"
   ]
  },
  {
   "cell_type": "code",
   "execution_count": 14,
   "metadata": {},
   "outputs": [
    {
     "name": "stdout",
     "output_type": "stream",
     "text": [
      "True\n",
      "False\n"
     ]
    }
   ],
   "source": [
    "#example: Knapsack problem\n",
    "def knaps(n, k):\n",
    "  if n < 10:\n",
    "    return n == k\n",
    "  else:\n",
    "    with_last = knaps(n//10, k - n%10)\n",
    "    without_last = knaps(n//10, k)\n",
    "    return with_last or without_last\n",
    "\n",
    "print(knaps(114514,11))\n",
    "print(knaps(689,16))"
   ]
  },
  {
   "cell_type": "code",
   "execution_count": 14,
   "metadata": {},
   "outputs": [
    {
     "data": {
      "text/plain": [
       "5"
      ]
     },
     "execution_count": 14,
     "metadata": {},
     "output_type": "execute_result"
    }
   ],
   "source": [
    "#example: counting partitions\n",
    "def count_parts(n, m):\n",
    "  if n < 0 or m <= 0:\n",
    "    return 0\n",
    "  elif m == 1 or n == 0:\n",
    "    return 1\n",
    "  else:\n",
    "    return count_parts(n - m , m) + count_parts(n, m-1)\n",
    "\n",
    "count_parts(5, 3)\n",
    "    "
   ]
  },
  {
   "cell_type": "code",
   "execution_count": 23,
   "metadata": {},
   "outputs": [
    {
     "name": "stdout",
     "output_type": "stream",
     "text": [
      "0\n",
      "1\n",
      "10\n",
      "11\n",
      "100\n",
      "101\n",
      "110\n",
      "111\n"
     ]
    }
   ],
   "source": [
    "#example: binary print\n",
    "def all_nums(k):\n",
    "  def g(k, prefix):\n",
    "    if k == 0:\n",
    "      print(prefix)\n",
    "      return 1\n",
    "    else:\n",
    "      return g(k-1, prefix*10) and g(k-1, prefix*10+1)\n",
    "  g(k,0)\n",
    "all_nums(3) "
   ]
  },
  {
   "cell_type": "code",
   "execution_count": 37,
   "metadata": {},
   "outputs": [
    {
     "data": {
      "text/plain": [
       "31"
      ]
     },
     "execution_count": 37,
     "metadata": {},
     "output_type": "execute_result"
    }
   ],
   "source": [
    "#example: Implementing a function\n",
    "def remove(n, digit):\n",
    "  kept, digits = 0, 0\n",
    "  while n > 0:\n",
    "    n,  last = n//10, n%10\n",
    "    if last != digit:\n",
    "      kept = kept + last*pow(10, digits)\n",
    "      digits += 1\n",
    "  return kept\n",
    "remove(321,2)"
   ]
  }
 ],
 "metadata": {
  "kernelspec": {
   "display_name": "Python 3",
   "language": "python",
   "name": "python3"
  },
  "language_info": {
   "codemirror_mode": {
    "name": "ipython",
    "version": 3
   },
   "file_extension": ".py",
   "mimetype": "text/x-python",
   "name": "python",
   "nbconvert_exporter": "python",
   "pygments_lexer": "ipython3",
   "version": "3.9.13"
  },
  "orig_nbformat": 4,
  "vscode": {
   "interpreter": {
    "hash": "a99a2fa8eaf3195a64d7e4ae4dfb5ad00e4ee456ab3ffb48bc6566468d393560"
   }
  }
 },
 "nbformat": 4,
 "nbformat_minor": 2
}
