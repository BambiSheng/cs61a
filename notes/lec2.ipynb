{
 "cells": [
  {
   "attachments": {},
   "cell_type": "markdown",
   "metadata": {},
   "source": [
    "## Lec2.control and iteration"
   ]
  },
  {
   "attachments": {},
   "cell_type": "markdown",
   "metadata": {},
   "source": [
    "### 1.print and none"
   ]
  },
  {
   "cell_type": "code",
   "execution_count": 4,
   "metadata": {},
   "outputs": [
    {
     "name": "stdout",
     "output_type": "stream",
     "text": [
      "-2\n",
      "None\n",
      "1 2 3\n",
      "None None\n",
      "1\n",
      "2\n",
      "None None\n"
     ]
    }
   ],
   "source": [
    "# here is an example\n",
    "-2\n",
    "print(-2)\n",
    "'Go bears!'\n",
    "None\n",
    "print(None)\n",
    "print(1,2,3)\n",
    "print(None,None)\n",
    "print(print(1),print(2))\n"
   ]
  },
  {
   "attachments": {},
   "cell_type": "markdown",
   "metadata": {},
   "source": [
    "KEY\n",
    "  - None indicates that nothing is returned:a function that explicitly return a value will return None\n",
    "  - None is not displayed by the interpreter as the value of an expression\n",
    "  - Pure functions just return values(such as `abs`, `pow`...),Non-Pure functions have side effects(such as `print`)\n",
    "  - `print` takes in some value, display them on the screen and returns none(Try to understand the last line of the example above with this)"
   ]
  },
  {
   "attachments": {},
   "cell_type": "markdown",
   "metadata": {},
   "source": [
    "### 2.miscellaneous python features and debugging tricks"
   ]
  },
  {
   "cell_type": "code",
   "execution_count": 17,
   "metadata": {},
   "outputs": [
    {
     "name": "stdout",
     "output_type": "stream",
     "text": [
      "201 3\n"
     ]
    }
   ],
   "source": [
    "'''funtions with multiple values returned'''\n",
    "def divide_exactly(n,d):\n",
    "  return n//d, n%d\n",
    "\n",
    "quotient, remainder = divide_exactly(2013, 10)\n",
    "print(quotient,remainder)\n",
    "\n"
   ]
  },
  {
   "cell_type": "code",
   "execution_count": null,
   "metadata": {},
   "outputs": [],
   "source": [
    "\"\"\"doctest\"\"\"\n",
    "def divide_exactly(n,d):\n",
    "  '''some words...\n",
    "\n",
    "  >>> q,r = divide_exactly(2013,10)\n",
    "  >>> q\n",
    "  201\n",
    "  >>> r\n",
    "  3\n",
    "  '''\n",
    "  return n//d, n%d\n"
   ]
  },
  {
   "attachments": {},
   "cell_type": "markdown",
   "metadata": {},
   "source": [
    "In the terminal:\n",
    "\n",
    "`py xxx.py`: run the py file\n",
    "\n",
    "`py -i xxx.py`: run with interactive prompt\n",
    "\n",
    "`py -m doctest xxx.py`: doctest.If all tests pass,nothing will happen,else it goes error.\n",
    "\n",
    "`py -m doctest -v xxx.py`: show details\n"
   ]
  },
  {
   "cell_type": "code",
   "execution_count": 19,
   "metadata": {},
   "outputs": [
    {
     "name": "stdout",
     "output_type": "stream",
     "text": [
      "(3, 1)\n"
     ]
    }
   ],
   "source": [
    "'''default assignment of values in functions'''\n",
    "def divide_exactly(n,d=2):\n",
    "  '''some words...'''\n",
    "  return n//d, n%d\n",
    "\n",
    "print(divide_exactly(7))\n"
   ]
  },
  {
   "attachments": {},
   "cell_type": "markdown",
   "metadata": {},
   "source": [
    "As for debugging, using `print` statements:\n",
    "\n",
    "`print('DEBUG: xxxxx')`"
   ]
  },
  {
   "cell_type": "code",
   "execution_count": 4,
   "metadata": {},
   "outputs": [
    {
     "name": "stdout",
     "output_type": "stream",
     "text": [
      "DEBUG: result is some_function\n"
     ]
    },
    {
     "data": {
      "text/plain": [
       "'other_function'"
      ]
     },
     "execution_count": 4,
     "metadata": {},
     "output_type": "execute_result"
    }
   ],
   "source": [
    "def some_function(x):\n",
    "  return 'some_function'\n",
    "\n",
    "def other_function(x):\n",
    "  return 'other_function'\n",
    "\n",
    "def foo(x):\n",
    "  result = some_function(x)\n",
    "  print('DEBUG: result is', result) # for debugging\n",
    "  return other_function(result)\n",
    "\n",
    "foo(1)"
   ]
  },
  {
   "attachments": {},
   "cell_type": "markdown",
   "metadata": {},
   "source": [
    "Long-term debugging:\n",
    "\n",
    "The variable `debug` can be switched to True or False"
   ]
  },
  {
   "cell_type": "code",
   "execution_count": 9,
   "metadata": {},
   "outputs": [
    {
     "name": "stdout",
     "output_type": "stream",
     "text": [
      "DEBUG: i is 1\n",
      "DEBUG: i is 2\n",
      "DEBUG: i is 3\n",
      "DEBUG: i is 4\n",
      "DEBUG: i is 5\n"
     ]
    }
   ],
   "source": [
    "debug = True\n",
    "\n",
    "def func(x):\n",
    "  return 1\n",
    "\n",
    "def foo(n):\n",
    "  i = 0\n",
    "  while i < n:\n",
    "      i += func(i)\n",
    "      if debug:\n",
    "          print('DEBUG: i is', i)\n",
    "\n",
    "foo(5)"
   ]
  },
  {
   "attachments": {},
   "cell_type": "markdown",
   "metadata": {},
   "source": [
    "Interactive Debugging:\n",
    "\n",
    "`python -i file.py`"
   ]
  },
  {
   "attachments": {},
   "cell_type": "markdown",
   "metadata": {},
   "source": [
    "Using `assert` statements\n",
    "\n",
    "Python has a feature known as an assert statement, which lets you test that a condition is true, and print an error message otherwise in a single line. "
   ]
  },
  {
   "cell_type": "code",
   "execution_count": 11,
   "metadata": {},
   "outputs": [],
   "source": [
    "def double(x):\n",
    "    assert isinstance(x, int), \"The input to double(x) must be an integer\"\n",
    "    return 2 * x"
   ]
  },
  {
   "attachments": {},
   "cell_type": "markdown",
   "metadata": {},
   "source": [
    "### 3.conditional statements"
   ]
  },
  {
   "cell_type": "code",
   "execution_count": 3,
   "metadata": {},
   "outputs": [
    {
     "name": "stdout",
     "output_type": "stream",
     "text": [
      "8\n",
      "5\n"
     ]
    }
   ],
   "source": [
    "# if\n",
    "def absolute_value (x):\n",
    "  if x>0:\n",
    "    return x\n",
    "  elif x == 0:\n",
    "    return 0\n",
    "  else:\n",
    "    return -x\n",
    "\n",
    "print(absolute_value(-8))\n",
    "print(absolute_value(5))\n"
   ]
  },
  {
   "attachments": {},
   "cell_type": "markdown",
   "metadata": {},
   "source": [
    "Boolean Context:\n",
    "- False values in py: False, 0, '', None\n",
    "- True values in py: Anything else\n",
    "\n",
    "\n",
    "Boolean Operators;\n",
    "- and\n",
    "    \n",
    "    To evaluate the expression `<left>` and `<right>`:\n",
    "\n",
    "    Evaluate the subexpression `<left>`.\n",
    "    If the result is a false value v, then the expression evaluates to v.\n",
    "    Otherwise, the expression evaluates to the value of the subexpression `<right>`.\n",
    "- or \n",
    "\n",
    "    Evaluate the subexpression `<left>`.\n",
    "    If the result is a true value v, then the expression evaluates to v.\n",
    "    Otherwise, the expression evaluates to the value of the subexpression `<right>`.\n",
    "- not\n",
    "  \n",
    "  Evaluate `<exp>`; The value is True if the result is a false value, and False otherwise."
   ]
  },
  {
   "attachments": {},
   "cell_type": "markdown",
   "metadata": {},
   "source": [
    "### 4.Iteration"
   ]
  },
  {
   "cell_type": "code",
   "execution_count": 4,
   "metadata": {},
   "outputs": [
    {
     "name": "stdout",
     "output_type": "stream",
     "text": [
      "6\n"
     ]
    }
   ],
   "source": [
    "# Basics\n",
    "i, total = 0, 0\n",
    "while i<3:\n",
    "  i += 1\n",
    "  total += i\n",
    "\n",
    "print(total)"
   ]
  },
  {
   "attachments": {},
   "cell_type": "markdown",
   "metadata": {},
   "source": [
    "### 5.Return"
   ]
  },
  {
   "cell_type": "code",
   "execution_count": 1,
   "metadata": {},
   "outputs": [
    {
     "name": "stdout",
     "output_type": "stream",
     "text": [
      "i = 1 False\n",
      "i = 2 False\n",
      "i = 3 True\n",
      "3\n",
      "11\n",
      "4\n"
     ]
    }
   ],
   "source": [
    "def search(f):\n",
    "  x = 0\n",
    "  while True:\n",
    "    if f(x):\n",
    "      return x\n",
    "    x += 1\n",
    "\n",
    "\n",
    "def square(x):\n",
    "  return x*x\n",
    "\n",
    "def is_three(x):\n",
    "  return x == 3\n",
    "\n",
    "def positive(x):\n",
    "  return max(0, x*x - 100)\n",
    "\n",
    "def inverse(f):\n",
    "  '''Return g(y) such that g(f(x)) = x\n",
    "     This part will be discussed  thoroughly later\n",
    "  '''\n",
    "  return lambda y: search(lambda x : f(x) == y)\n",
    "\n",
    "i = 1\n",
    "while i<4:\n",
    "  print('i =', i, is_three(i))\n",
    "  i += 1\n",
    "\n",
    "print(search(is_three))\n",
    "print(search(positive))\n",
    "sqrt = inverse(square)\n",
    "print(sqrt(16))"
   ]
  }
 ],
 "metadata": {
  "kernelspec": {
   "display_name": "Python 3",
   "language": "python",
   "name": "python3"
  },
  "language_info": {
   "codemirror_mode": {
    "name": "ipython",
    "version": 3
   },
   "file_extension": ".py",
   "mimetype": "text/x-python",
   "name": "python",
   "nbconvert_exporter": "python",
   "pygments_lexer": "ipython3",
   "version": "3.9.13 (tags/v3.9.13:6de2ca5, May 17 2022, 16:36:42) [MSC v.1929 64 bit (AMD64)]"
  },
  "orig_nbformat": 4,
  "vscode": {
   "interpreter": {
    "hash": "a99a2fa8eaf3195a64d7e4ae4dfb5ad00e4ee456ab3ffb48bc6566468d393560"
   }
  }
 },
 "nbformat": 4,
 "nbformat_minor": 2
}
