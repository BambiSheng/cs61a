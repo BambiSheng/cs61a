{
 "cells": [
  {
   "attachments": {},
   "cell_type": "markdown",
   "metadata": {},
   "source": [
    "## Lec3. Higher-Order Functions"
   ]
  },
  {
   "attachments": {},
   "cell_type": "markdown",
   "metadata": {},
   "source": [
    "### 1.Functions as return values"
   ]
  },
  {
   "cell_type": "code",
   "execution_count": 3,
   "metadata": {},
   "outputs": [
    {
     "name": "stdout",
     "output_type": "stream",
     "text": [
      "7\n"
     ]
    },
    {
     "data": {
      "text/plain": [
       "7"
      ]
     },
     "execution_count": 3,
     "metadata": {},
     "output_type": "execute_result"
    }
   ],
   "source": [
    "def make_adder(n):\n",
    "  def adder(x):\n",
    "      return x + n\n",
    "  return adder\n",
    "\n",
    "f = make_adder(3)\n",
    "print(f(4))\n",
    "make_adder(3)(4) # make_adder can work as mul"
   ]
  },
  {
   "attachments": {},
   "cell_type": "markdown",
   "metadata": {},
   "source": [
    "### 2.Higher-Order Functions"
   ]
  },
  {
   "attachments": {},
   "cell_type": "markdown",
   "metadata": {},
   "source": [
    "KEY: takes functions and returns functions"
   ]
  },
  {
   "cell_type": "code",
   "execution_count": 10,
   "metadata": {},
   "outputs": [],
   "source": [
    "# Example: Sound\n",
    "\n",
    "from wave import open\n",
    "from struct import Struct\n",
    "from math import floor\n",
    "\n",
    "frame_rate = 11025\n",
    "\n",
    "def encode(x):\n",
    "    \"\"\"Encode float x between -1 and 1 as two bytes.\n",
    "    (See https://docs.python.org/3/library/struct.html)\n",
    "    \"\"\"\n",
    "    i = int(16384 * x)\n",
    "    return Struct('h').pack(i)\n",
    "\n",
    "def play(sampler, name='song.wav', seconds=2):\n",
    "    \"\"\"Write the output of a sampler function as a wav file.\n",
    "    (See https://docs.python.org/3/library/wave.html)\n",
    "    \"\"\"\n",
    "    out = open(name, 'wb')\n",
    "    out.setnchannels(1)\n",
    "    out.setsampwidth(2)\n",
    "    out.setframerate(frame_rate)\n",
    "    t = 0\n",
    "    while t < seconds * frame_rate:\n",
    "        sample = sampler(t)\n",
    "        out.writeframes(encode(sample))\n",
    "        t = t + 1\n",
    "    out.close()\n",
    "\n",
    "def tri(frequency, amplitude=0.3):\n",
    "    \"\"\"A continuous triangle wave.\"\"\"\n",
    "    period = frame_rate // frequency\n",
    "    def sampler(t):\n",
    "        saw_wave = t / period - floor(t / period + 0.5)\n",
    "        tri_wave = 2 * abs(2 * saw_wave) - 1\n",
    "        return amplitude * tri_wave\n",
    "    return sampler\n",
    "\n",
    "c_freq, e_freq, g_freq = 261.63, 329.63, 392.00\n",
    "\n",
    "play(tri(e_freq))\n",
    "\n",
    "def note(f, start, end, fade=.01):\n",
    "    \"\"\"Play f for a fixed duration.\"\"\"\n",
    "    def sampler(t):\n",
    "        seconds = t / frame_rate\n",
    "        if seconds < start:\n",
    "            return 0\n",
    "        elif seconds > end:\n",
    "            return 0\n",
    "        elif seconds < start + fade:\n",
    "            return (seconds - start) / fade * f(t)\n",
    "        elif seconds > end - fade:\n",
    "            return (end - seconds) / fade * f(t)\n",
    "        else:\n",
    "            return f(t)\n",
    "    return sampler\n",
    "\n",
    "play(note(tri(e_freq), 1, 1.5))\n",
    "\n",
    "def both(f, g):\n",
    "    return lambda t: f(t) + g(t)\n",
    "\n",
    "c = tri(c_freq)\n",
    "e = tri(e_freq)\n",
    "g = tri(g_freq)\n",
    "low_g = tri(g_freq / 2)\n",
    "\n",
    "play(both(note(e, 0, 1/8), note(low_g, 1/8, 3/8)))\n",
    "\n",
    "play(both(note(c, 0, 1), both(note(e, 0, 1), note(g, 0, 1))))\n",
    "\n",
    "def mario(c, e, g, low_g):\n",
    "    z = 0\n",
    "    song = note(e, z, z + 1/8)\n",
    "    z += 1/8\n",
    "    song = both(song, note(e, z, z + 1/8))\n",
    "    z += 1/4\n",
    "    song = both(song, note(e, z, z + 1/8))\n",
    "    z += 1/4\n",
    "    song = both(song, note(c, z, z + 1/8))\n",
    "    z += 1/8\n",
    "    song = both(song, note(e, z, z + 1/8))\n",
    "    z += 1/4\n",
    "    song = both(song, note(g, z, z + 1/4))\n",
    "    z += 1/2\n",
    "    song = both(song, note(low_g, z, z + 1/4))\n",
    "    return song\n",
    "\n",
    "def mario_at(octave):\n",
    "    c = tri(octave * c_freq)\n",
    "    e = tri(octave * e_freq)\n",
    "    g = tri(octave * g_freq)\n",
    "    low_g = tri(octave * g_freq / 2)\n",
    "    return mario(c, e, g, low_g)\n",
    "\n",
    "play(mario_at(1))\n"
   ]
  },
  {
   "cell_type": "code",
   "execution_count": 11,
   "metadata": {},
   "outputs": [],
   "source": [
    "# function composition\n",
    "def make_adder(n):\n",
    "  def adder(x):\n",
    "      return x + n\n",
    "  return adder\n",
    "\n",
    "def square(x):\n",
    "  return x * x\n",
    "\n",
    "def triple(x):\n",
    "  return 3 * x\n",
    "\n",
    "def composel(f, g):\n",
    "  def h(x):\n",
    "    return f(g(x))\n",
    "  return h\n"
   ]
  },
  {
   "attachments": {},
   "cell_type": "markdown",
   "metadata": {},
   "source": [
    "### 3.lambda expressions"
   ]
  },
  {
   "cell_type": "code",
   "execution_count": 26,
   "metadata": {},
   "outputs": [
    {
     "name": "stdout",
     "output_type": "stream",
     "text": [
      "9\n",
      "9\n"
     ]
    }
   ],
   "source": [
    "# example\n",
    "square = lambda x: x * x\n",
    "'''a function with formal parameter x that returns the value of \"x * x\" '''\n",
    "print(square(3)) # equals to:\n",
    "print((lambda x: x * x)(3))\n"
   ]
  },
  {
   "attachments": {},
   "cell_type": "markdown",
   "metadata": {},
   "source": [
    "### 4.function currying"
   ]
  },
  {
   "attachments": {},
   "cell_type": "markdown",
   "metadata": {},
   "source": [
    "A way of manipulating functions."
   ]
  },
  {
   "cell_type": "code",
   "execution_count": 14,
   "metadata": {},
   "outputs": [
    {
     "name": "stdout",
     "output_type": "stream",
     "text": [
      "5\n",
      "5\n"
     ]
    }
   ],
   "source": [
    "# make_adder as an example\n",
    "def make_adder(n):\n",
    "  return lambda k : n + k\n",
    "from operator import add\n",
    "print(make_adder(2)(3))\n",
    "print(add(2,3))"
   ]
  },
  {
   "attachments": {},
   "cell_type": "markdown",
   "metadata": {},
   "source": [
    "There is a general description of the relationship between the two functions above."
   ]
  },
  {
   "cell_type": "code",
   "execution_count": 9,
   "metadata": {},
   "outputs": [
    {
     "name": "stdout",
     "output_type": "stream",
     "text": [
      "5\n",
      "5\n"
     ]
    }
   ],
   "source": [
    "'''\n",
    "def curry2(f):\n",
    "  def g(x):\n",
    "    def h(y):\n",
    "      return f(x, y)\n",
    "    return h\n",
    "  return g\n",
    "''' \n",
    "from operator import add\n",
    "curry2 = lambda f: lambda x: lambda y: f(x, y)\n",
    "fun = curry2(add)\n",
    "print(fun(3)(2))\n",
    "add_three = fun(3)\n",
    "print(add_three(2))"
   ]
  },
  {
   "attachments": {},
   "cell_type": "markdown",
   "metadata": {},
   "source": [
    "### 5.Funuction Decorators"
   ]
  },
  {
   "cell_type": "code",
   "execution_count": 18,
   "metadata": {},
   "outputs": [
    {
     "name": "stdout",
     "output_type": "stream",
     "text": [
      "calling <function sum_squares_up_to at 0x00000181A2E6B1F0> on argument 4\n",
      "calling <function square at 0x00000181A2E17E50> on argument 1\n",
      "calling <function square at 0x00000181A2E17E50> on argument 2\n",
      "calling <function square at 0x00000181A2E17E50> on argument 3\n",
      "calling <function square at 0x00000181A2E17E50> on argument 4\n"
     ]
    },
    {
     "data": {
      "text/plain": [
       "30"
      ]
     },
     "execution_count": 18,
     "metadata": {},
     "output_type": "execute_result"
    }
   ],
   "source": [
    "\n",
    "def trace(f):\n",
    "  def traced(x):\n",
    "    print(\"calling\",f,\"on argument\", x)\n",
    "    return f(x)\n",
    "  return traced\n",
    "\n",
    "@trace\n",
    "def square (x):\n",
    "  return x*x\n",
    "# equal to: square = trace(square)\n",
    "@trace\n",
    "def sum_squares_up_to(n):\n",
    "  k = 1\n",
    "  total = 0\n",
    "  while k <= n:\n",
    "    total, k = total + square(k), k + 1\n",
    "  return total\n",
    " \n",
    "sum_squares_up_to(4)\n",
    "\n"
   ]
  },
  {
   "attachments": {},
   "cell_type": "markdown",
   "metadata": {},
   "source": [
    "A decorator serves as a shortcut to transform one function into another, based on the higher-order function referred in the `@` statement."
   ]
  },
  {
   "cell_type": "markdown",
   "metadata": {},
   "source": []
  }
 ],
 "metadata": {
  "kernelspec": {
   "display_name": "Python 3",
   "language": "python",
   "name": "python3"
  },
  "language_info": {
   "codemirror_mode": {
    "name": "ipython",
    "version": 3
   },
   "file_extension": ".py",
   "mimetype": "text/x-python",
   "name": "python",
   "nbconvert_exporter": "python",
   "pygments_lexer": "ipython3",
   "version": "3.9.13 (tags/v3.9.13:6de2ca5, May 17 2022, 16:36:42) [MSC v.1929 64 bit (AMD64)]"
  },
  "orig_nbformat": 4,
  "vscode": {
   "interpreter": {
    "hash": "a99a2fa8eaf3195a64d7e4ae4dfb5ad00e4ee456ab3ffb48bc6566468d393560"
   }
  }
 },
 "nbformat": 4,
 "nbformat_minor": 2
}
