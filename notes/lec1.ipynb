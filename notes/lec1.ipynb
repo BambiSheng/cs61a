{
 "cells": [
  {
   "attachments": {},
   "cell_type": "markdown",
   "metadata": {},
   "source": [
    "## Lec1.Function"
   ]
  },
  {
   "attachments": {},
   "cell_type": "markdown",
   "metadata": {},
   "source": [
    "### 1. assignment statements"
   ]
  },
  {
   "cell_type": "code",
   "execution_count": 2,
   "metadata": {},
   "outputs": [
    {
     "name": "stdout",
     "output_type": "stream",
     "text": [
      "a = 2 b = 3\n"
     ]
    }
   ],
   "source": [
    "a=1\n",
    "b=2\n",
    "b,a = a+b,b\n",
    "print('a =',a,'b =',b)"
   ]
  },
  {
   "attachments": {},
   "cell_type": "markdown",
   "metadata": {},
   "source": [
    "先运行等号右边，再更换左边变量与值的绑定关系（或者说用右边为左边赋值）"
   ]
  },
  {
   "attachments": {},
   "cell_type": "markdown",
   "metadata": {},
   "source": [
    "### 2. defining functions"
   ]
  },
  {
   "attachments": {},
   "cell_type": "markdown",
   "metadata": {},
   "source": [
    "assingment -> binds names to values\n",
    "\n",
    "function definition -> binds names to expressions\n",
    "one possible confusing thing:\n",
    "```\n",
    ">>> x=1\n",
    ">>> def square(x):\n",
    "...     return x*x\n",
    "...\n",
    ">>> square()\n",
    "Traceback (most recent call last):\n",
    "File \"<stdin>\", line 1, in <module> TypeError: square() missing 1 required positional argument:'x'\n",
    ">>> square(3)\n",
    "9\n",
    ">>> x\n",
    "1\n",
    "```\n",
    "- 调用函数时，相当于进入了独立于global的新的frame，并且引入变量名 x并赋值，接着顺着函数的body运行，直到return回到global frame\n",
    "- 在第3部分中这个疑惑将得到更清晰的解答"
   ]
  },
  {
   "attachments": {},
   "cell_type": "markdown",
   "metadata": {},
   "source": [
    "### 3. Environmnet\n",
    "Environments are memories that keep track of the correspondence between names and values.\n",
    "As for frame:\n",
    "  - The global frame alone\n",
    "  - a local frame ,followed by the global frame.\n",
    "\n",
    "An environment isa sequence of frames.\n",
    "==important!== A name evaluates to the value bound to that name in the earliest frame of the current environment in which the name is found.\n",
    " \n",
    " - Look for the name in the local frame\n",
    " - not found?Look for it in the global frame. "
   ]
  }
 ],
 "metadata": {
  "kernelspec": {
   "display_name": "Python 3",
   "language": "python",
   "name": "python3"
  },
  "language_info": {
   "codemirror_mode": {
    "name": "ipython",
    "version": 3
   },
   "file_extension": ".py",
   "mimetype": "text/x-python",
   "name": "python",
   "nbconvert_exporter": "python",
   "pygments_lexer": "ipython3",
   "version": "3.9.13 (tags/v3.9.13:6de2ca5, May 17 2022, 16:36:42) [MSC v.1929 64 bit (AMD64)]"
  },
  "orig_nbformat": 4,
  "vscode": {
   "interpreter": {
    "hash": "a99a2fa8eaf3195a64d7e4ae4dfb5ad00e4ee456ab3ffb48bc6566468d393560"
   }
  }
 },
 "nbformat": 4,
 "nbformat_minor": 2
}
